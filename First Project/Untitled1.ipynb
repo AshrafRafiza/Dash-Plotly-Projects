{
 "cells": [
  {
   "cell_type": "code",
   "execution_count": 1,
   "metadata": {},
   "outputs": [],
   "source": [
    "import pandas as pd\n",
    "import plotly.express as px\n",
    "import plotly.graph_objects as go"
   ]
  },
  {
   "cell_type": "code",
   "execution_count": 2,
   "metadata": {},
   "outputs": [],
   "source": [
    "import dash\n",
    "import dash_core_components as dcc\n",
    "import dash_html_components as html\n",
    "from dash.dependencies import Input, Output"
   ]
  },
  {
   "cell_type": "code",
   "execution_count": 5,
   "metadata": {},
   "outputs": [
    {
     "data": {
      "text/html": [
       "<div>\n",
       "<style scoped>\n",
       "    .dataframe tbody tr th:only-of-type {\n",
       "        vertical-align: middle;\n",
       "    }\n",
       "\n",
       "    .dataframe tbody tr th {\n",
       "        vertical-align: top;\n",
       "    }\n",
       "\n",
       "    .dataframe thead th {\n",
       "        text-align: right;\n",
       "    }\n",
       "</style>\n",
       "<table border=\"1\" class=\"dataframe\">\n",
       "  <thead>\n",
       "    <tr style=\"text-align: right;\">\n",
       "      <th></th>\n",
       "      <th>Program</th>\n",
       "      <th>Year</th>\n",
       "      <th>Period</th>\n",
       "      <th>State</th>\n",
       "      <th>ANSI</th>\n",
       "      <th>Affected by</th>\n",
       "      <th>Pct of Colonies Impacted</th>\n",
       "      <th>state_code</th>\n",
       "    </tr>\n",
       "  </thead>\n",
       "  <tbody>\n",
       "    <tr>\n",
       "      <th>0</th>\n",
       "      <td>SURVEY</td>\n",
       "      <td>2019</td>\n",
       "      <td>JAN THRU MAR</td>\n",
       "      <td>Alabama</td>\n",
       "      <td>1</td>\n",
       "      <td>Disease</td>\n",
       "      <td>1.8</td>\n",
       "      <td>AL</td>\n",
       "    </tr>\n",
       "    <tr>\n",
       "      <th>1</th>\n",
       "      <td>SURVEY</td>\n",
       "      <td>2019</td>\n",
       "      <td>JAN THRU MAR</td>\n",
       "      <td>Alabama</td>\n",
       "      <td>1</td>\n",
       "      <td>Other</td>\n",
       "      <td>3.1</td>\n",
       "      <td>AL</td>\n",
       "    </tr>\n",
       "    <tr>\n",
       "      <th>2</th>\n",
       "      <td>SURVEY</td>\n",
       "      <td>2019</td>\n",
       "      <td>JAN THRU MAR</td>\n",
       "      <td>Alabama</td>\n",
       "      <td>1</td>\n",
       "      <td>Pesticides</td>\n",
       "      <td>0.3</td>\n",
       "      <td>AL</td>\n",
       "    </tr>\n",
       "  </tbody>\n",
       "</table>\n",
       "</div>"
      ],
      "text/plain": [
       "  Program  Year        Period    State  ANSI Affected by  \\\n",
       "0  SURVEY  2019  JAN THRU MAR  Alabama     1     Disease   \n",
       "1  SURVEY  2019  JAN THRU MAR  Alabama     1       Other   \n",
       "2  SURVEY  2019  JAN THRU MAR  Alabama     1  Pesticides   \n",
       "\n",
       "   Pct of Colonies Impacted state_code  \n",
       "0                       1.8         AL  \n",
       "1                       3.1         AL  \n",
       "2                       0.3         AL  "
      ]
     },
     "execution_count": 5,
     "metadata": {},
     "output_type": "execute_result"
    }
   ],
   "source": [
    "df = pd.read_csv(\"intro_bees.csv\")\n",
    "df.head(3)"
   ]
  },
  {
   "cell_type": "code",
   "execution_count": 8,
   "metadata": {},
   "outputs": [
    {
     "name": "stdout",
     "output_type": "stream",
     "text": [
      "     State  ANSI Affected by  Year state_code  Pct of Colonies Impacted\n",
      "0  Alabama     1     Disease  2015         AL                      0.05\n",
      "1  Alabama     1     Disease  2016         AL                      1.20\n",
      "2  Alabama     1     Disease  2017         AL                      2.25\n",
      "3  Alabama     1     Disease  2018         AL                      1.30\n",
      "4  Alabama     1     Disease  2019         AL                      1.80\n"
     ]
    }
   ],
   "source": [
    "df = df.groupby(['State','ANSI','Affected by','Year','state_code'])[['Pct of Colonies Impacted']].mean()\n",
    "df.reset_index(inplace=True)\n",
    "print(df[:5]) #print all columns and 5 rows"
   ]
  },
  {
   "cell_type": "code",
   "execution_count": 53,
   "metadata": {},
   "outputs": [],
   "source": [
    "app = dash.Dash(__name__)\n",
    "\n",
    "# App layout\n",
    "app.layout = html.Div([\n",
    "    \n",
    "    html.H1(\"Web Application Dashboards with Dash\", style={'text-align': 'center'}),\n",
    "    \n",
    "    dcc.Dropdown(id=\"slct_year\",\n",
    "                options=[\n",
    "                    {\"label\": \"2015\", \"value\": 2015},\n",
    "                    {\"label\": \"2016\", \"value\": 2016},\n",
    "                    {\"label\": \"2017\", \"value\": 2017},\n",
    "                    {\"label\": \"2018\", \"value\": 2018}],\n",
    "                multi=False,\n",
    "                value=2015,\n",
    "                style={'width': \"40%\"}\n",
    "                ),\n",
    "    \n",
    "    html.Div(id='output_container', children=[]),\n",
    "    html.Br(),\n",
    "    \n",
    "    dcc.Graph(id='my_bee_map', figure={})\n",
    "])\n",
    "\n",
    "# Connect the plotly graphs with Dash Components\n",
    "@app.callback(\n",
    "    [Output(component_id='output_container', component_property='children'),\n",
    "     Output(component_id='my_bee_map', component_property='figure')],\n",
    "    [Input(component_id='slct_year', component_property='value')]\n",
    ")\n",
    "\n",
    "def update_graph(option_slctd):\n",
    "    print(option_slctd)\n",
    "    print(type(option_slctd))\n",
    "    \n",
    "    container = \"The year chosen by user was: {}\".format(option_slctd)\n",
    "    \n",
    "    dff = df.copy()\n",
    "    dff = dff[dff[\"Year\"] == option_slctd]\n",
    "    dff = dff[dff[\"Affected by\"] == \"Varroa_mites\"]\n",
    "    \n",
    "    # Plotly Express\n",
    "#     fig = px.choropleth(\n",
    "#         data_frame=dff,\n",
    "#         locationmode='USA-states',\n",
    "#         locations='state_code',\n",
    "#         scope=\"usa\",\n",
    "#         color='Pct of Colonies Impacted',\n",
    "#         hover_data=['State', 'Pct of Colonies Impacted'],\n",
    "#         color_continuous_scale=px.colors.sequential.YlOrRd,\n",
    "#         labels={'Pct of Colonies Impacted': '% of Bee Colonies'},\n",
    "#         template='plotly_dark'\n",
    "#     )\n",
    "\n",
    "    # Plotly Graph Objects (GO)\n",
    "    fig = go.Figure(\n",
    "        data=[go.Choropleth(\n",
    "            locationmode='USA-states',\n",
    "            locations=dff['state_code'],\n",
    "            z=dff[\"Pct of Colonies Impacted\"].astype(float),\n",
    "            colorscale='Reds',\n",
    "        )]\n",
    "    )  \n",
    "    \n",
    "    fig.update_layout(\n",
    "        title_text=\"Bees Affected by Mites in the USA\",\n",
    "        title_xanchor=\"center\",\n",
    "        title_font=dict(size=24),\n",
    "        title_x=0.5,\n",
    "        geo=dict(scope='usa'),\n",
    "    )\n",
    "    \n",
    "    return container, fig"
   ]
  },
  {
   "cell_type": "code",
   "execution_count": 54,
   "metadata": {},
   "outputs": [
    {
     "name": "stdout",
     "output_type": "stream",
     "text": [
      "Dash is running on http://127.0.0.1:8050/\n",
      "\n",
      "Dash is running on http://127.0.0.1:8050/\n",
      "\n",
      "Dash is running on http://127.0.0.1:8050/\n",
      "\n",
      "Dash is running on http://127.0.0.1:8050/\n",
      "\n",
      "Dash is running on http://127.0.0.1:8050/\n",
      "\n",
      " * Serving Flask app \"__main__\" (lazy loading)\n",
      " * Environment: production\n",
      "   WARNING: This is a development server. Do not use it in a production deployment.\n",
      "   Use a production WSGI server instead.\n",
      " * Debug mode: off\n",
      "2015\n",
      "<class 'int'>\n",
      "2016\n",
      "<class 'int'>\n",
      "2017\n",
      "<class 'int'>\n",
      "2018\n",
      "<class 'int'>\n"
     ]
    }
   ],
   "source": [
    "if __name__ == '__main__':\n",
    "    app.run_server()"
   ]
  },
  {
   "cell_type": "code",
   "execution_count": null,
   "metadata": {},
   "outputs": [],
   "source": []
  }
 ],
 "metadata": {
  "kernelspec": {
   "display_name": "Python 3",
   "language": "python",
   "name": "python3"
  },
  "language_info": {
   "codemirror_mode": {
    "name": "ipython",
    "version": 3
   },
   "file_extension": ".py",
   "mimetype": "text/x-python",
   "name": "python",
   "nbconvert_exporter": "python",
   "pygments_lexer": "ipython3",
   "version": "3.8.3"
  }
 },
 "nbformat": 4,
 "nbformat_minor": 4
}
